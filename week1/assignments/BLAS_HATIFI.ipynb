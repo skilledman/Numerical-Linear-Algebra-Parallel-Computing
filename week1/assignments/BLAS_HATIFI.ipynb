{
 "cells": [
  {
   "cell_type": "markdown",
   "id": "4b097fff",
   "metadata": {},
   "source": [
    "# HPC\n",
    "# BLAS ASSIGNMENT\n",
    "\n"
   ]
  },
  {
   "cell_type": "markdown",
   "id": "a38edb26",
   "metadata": {},
   "source": [
    "Use the cell below for all your imports."
   ]
  },
  {
   "cell_type": "code",
   "execution_count": 4,
   "id": "602bf016",
   "metadata": {},
   "outputs": [],
   "source": [
    "import numpy as np\n",
    "from scipy.linalg.blas import dgemv, ddot, dnrm2\n",
    "from IPython.display import Image\n"
   ]
  },
  {
   "cell_type": "markdown",
   "id": "441f3887",
   "metadata": {},
   "source": [
    "Create a matrix and a vector using NumPy.Their dtype should be double."
   ]
  },
  {
   "cell_type": "code",
   "execution_count": 7,
   "id": "e4a1b5c0",
   "metadata": {},
   "outputs": [],
   "source": [
    "A = np.array([[1, 2, 3], [4, 5, 6], [7, 8, 9]], dtype=np.double)\n",
    "x = np.array([1, 2, 3], dtype=np.double)"
   ]
  },
  {
   "cell_type": "markdown",
   "id": "9393f8a3",
   "metadata": {},
   "source": [
    "Use BLAS functions to perform matrix-vector multiplication"
   ]
  },
  {
   "cell_type": "code",
   "execution_count": 8,
   "id": "190f27ec",
   "metadata": {},
   "outputs": [
    {
     "data": {
      "text/plain": [
       "array([14., 32., 50.])"
      ]
     },
     "execution_count": 8,
     "metadata": {},
     "output_type": "execute_result"
    }
   ],
   "source": [
    "from scipy.linalg import blas\n",
    "from scipy.linalg import lapack\n",
    "\n",
    "z = blas.dgemv(alpha =1.0, a = A, x = x)\n",
    "z"
   ]
  },
  {
   "cell_type": "markdown",
   "id": "a0f45fcd",
   "metadata": {},
   "source": [
    "Create two new vectors and calculate their dot product using BLAS functions."
   ]
  },
  {
   "cell_type": "code",
   "execution_count": 9,
   "id": "a315a8cc",
   "metadata": {},
   "outputs": [
    {
     "name": "stdout",
     "output_type": "stream",
     "text": [
      "32.0\n"
     ]
    }
   ],
   "source": [
    "a = np.array([1, 2, 3], dtype=np.double)\n",
    "b = np.array([4, 5, 6], dtype=np.double)\n",
    "result = ddot(a, b)\n",
    "print(result)"
   ]
  },
  {
   "cell_type": "markdown",
   "id": "559de3d5",
   "metadata": {},
   "source": [
    "Compute the L2 norm (Euclidean distance) of a vector using BLAS functions"
   ]
  },
  {
   "cell_type": "code",
   "execution_count": 10,
   "id": "8582a3a0",
   "metadata": {},
   "outputs": [
    {
     "name": "stdout",
     "output_type": "stream",
     "text": [
      "3.7416573867739413\n"
     ]
    }
   ],
   "source": [
    "a = np.array([1, 2, 3], dtype=np.double)\n",
    "norm = dnrm2(a)\n",
    "print(norm)"
   ]
  },
  {
   "cell_type": "markdown",
   "id": "5c4bee1d",
   "metadata": {},
   "source": [
    "Create a 5x5 symmetric matrix and calculate its eigenvalues and eigenvectors using BLAS functions"
   ]
  },
  {
   "cell_type": "code",
   "execution_count": 11,
   "id": "43b6776f",
   "metadata": {},
   "outputs": [
    {
     "name": "stdout",
     "output_type": "stream",
     "text": [
      "Eigenvalues: [-1.06976654  0.17107866  0.66327097  1.12044198 44.11497493]\n",
      "Eigenvectors: [[ 0.74040618  0.29272354 -0.2622205   0.51923398  0.16657759]\n",
      " [ 0.25877317 -0.01176247 -0.5205591  -0.73629348  0.34610435]\n",
      " [ 0.20831227  0.32514414  0.75652334 -0.24779322  0.4660024 ]\n",
      " [ 0.05805977 -0.80337432  0.07392338  0.23445474  0.53924491]\n",
      " [-0.58143804  0.40378901 -0.28716962  0.26813704  0.58695859]]\n"
     ]
    }
   ],
   "source": [
    "import numpy as np\n",
    "from numpy.linalg import eigh\n",
    "\n",
    "# Create a 5x5 symmetric matrix\n",
    "A = np.array([[1, 2, 3, 4, 5],\n",
    "              [2, 6, 7, 8, 9],\n",
    "              [3, 7, 10, 11, 12],\n",
    "              [4, 8, 11, 13, 14],\n",
    "              [5, 9, 12, 14, 15]], dtype=np.double)\n",
    "\n",
    "w = lapack.dsyev(A)\n",
    "\n",
    "# Print results\n",
    "print(\"Eigenvalues:\", w[0])\n",
    "print(\"Eigenvectors:\",w[1])\n",
    "\n",
    "\n"
   ]
  },
  {
   "cell_type": "markdown",
   "id": "0c44fcc3",
   "metadata": {},
   "source": [
    "Given the following matrix A and vector v:"
   ]
  },
  {
   "cell_type": "code",
   "execution_count": 12,
   "id": "07db18b8",
   "metadata": {},
   "outputs": [],
   "source": [
    "A = np.array([[1, 2, 3], [4, 5, 6], [7, 8, 9]], dtype=np.double)\n",
    "b = np.array([1, 2, 3], dtype=np.double)"
   ]
  },
  {
   "cell_type": "markdown",
   "id": "9288f29d",
   "metadata": {},
   "source": [
    "Solve the system Ax = b using the LU decomposition method and BLAS functions"
   ]
  },
  {
   "cell_type": "code",
   "execution_count": 13,
   "id": "936d69a7",
   "metadata": {},
   "outputs": [
    {
     "name": "stdout",
     "output_type": "stream",
     "text": [
      "(array([[7.        , 8.        , 9.        ],\n",
      "       [0.14285714, 0.85714286, 1.71428571],\n",
      "       [0.57142857, 0.5       , 0.        ]]), array([2, 2, 2], dtype=int32), 3)\n"
     ]
    }
   ],
   "source": [
    "A = np.array([[1, 2, 3], [4, 5, 6], [7, 8, 9]], dtype=np.double)\n",
    "b = np.array([1, 2, 3], dtype=np.double)\n",
    "#lu, piv = lapack.dgetrf(A)\n",
    "lu = lapack.dgetrf(A)\n",
    "#x = lapack.dgetri(lu, b)\n",
    "print(lu)"
   ]
  }
 ],
 "metadata": {
  "kernelspec": {
   "display_name": "Python 3 (ipykernel)",
   "language": "python",
   "name": "python3"
  },
  "language_info": {
   "codemirror_mode": {
    "name": "ipython",
    "version": 3
   },
   "file_extension": ".py",
   "mimetype": "text/x-python",
   "name": "python",
   "nbconvert_exporter": "python",
   "pygments_lexer": "ipython3",
   "version": "3.9.13"
  }
 },
 "nbformat": 4,
 "nbformat_minor": 5
}
