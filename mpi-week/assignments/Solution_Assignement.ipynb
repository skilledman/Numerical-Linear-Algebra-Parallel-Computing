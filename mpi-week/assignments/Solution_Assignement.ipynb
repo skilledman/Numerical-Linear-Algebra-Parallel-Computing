{
 "cells": [
  {
   "cell_type": "markdown",
   "id": "4d81321b",
   "metadata": {},
   "source": [
    "# MPI Assignments"
   ]
  },
  {
   "cell_type": "markdown",
   "id": "65fa0a38",
   "metadata": {},
   "source": [
    "### Exercise 1: Hello World\n",
    "1. Write an MPI program which prints the message \"Hello World\"\n",
    "2. Modify your program so that each process prints out both its rank and the total number of processes P that the code is running on, i.e. the size of `MPI_COMM_WORLD`.\n",
    "3. Modify your program so that only a single controller process (e.g. rank 0) prints out a message (very useful when you run with hundreds of processes).\n",
    "4. What happens if you omit the final MPI procedure call in your program?"
   ]
  },
  {
   "cell_type": "code",
   "execution_count": 5,
   "id": "6b4cf66c",
   "metadata": {},
   "outputs": [
    {
     "name": "stdout",
     "output_type": "stream",
     "text": [
      "Overwriting hello.py\n"
     ]
    }
   ],
   "source": [
    " %%file hello.py\n",
    "from mpi4py import MPI\n",
    "COMM = MPI.COMM_WORLD\n",
    "nbOfproc = COMM.Get_size()\n",
    "RANK = COMM.Get_rank()\n",
    "\n",
    "print(\"Hello from the rank {} process\".format(RANK))\n",
    "if RANK==nbOfproc-1:\n",
    "    print(\"Parallel execution of hello_world with {} process\".format(nbOfproc))"
   ]
  },
  {
   "cell_type": "code",
   "execution_count": 12,
   "id": "9aa4ad1f",
   "metadata": {},
   "outputs": [
    {
     "name": "stderr",
     "output_type": "stream",
     "text": [
      "'mpirun' n'est pas reconnu en tant que commande interne\n",
      "ou externe, un programme ex‚cutable ou un fichier de commandes.\n"
     ]
    }
   ],
   "source": [
    "# enter command for compile and run the program\n",
    "!mpirun -n 4 python3 hello.py"
   ]
  },
  {
   "cell_type": "markdown",
   "id": "8f429661",
   "metadata": {},
   "source": [
    "### Exercise 2: Sharing Data\n",
    "Create a program that obtains an integer input from the terminal and distributes it to all the MPI processes.\n",
    "Each process must display its rank and the received value. \n",
    "Keep reading values until a negative integer is entered.\n",
    "**Output Example**\n",
    "```shell\n",
    "10\n",
    "Process 0 got 10\n",
    "Process 1 got 10\n",
    "```"
   ]
  },
  {
   "cell_type": "code",
   "execution_count": 6,
   "id": "e950800c",
   "metadata": {},
   "outputs": [
    {
     "name": "stdout",
     "output_type": "stream",
     "text": [
      "Overwriting sharing.py\n"
     ]
    }
   ],
   "source": [
    " %%file sharing.py\n",
    " # write your program here\n",
    "from mpi4py import MPI\n",
    "COMM = MPI.COMM_WORLD\n",
    "RANK = COMM.Get_rank()\n",
    "SIZE = COMM.Get_size()\n",
    "while True:\n",
    "    if RANK == 0:\n",
    "        sendbuf = int(input())\n",
    "    else: \n",
    "        sendbuf = None    \n",
    "    recv = COMM.bcast(sendbuf, root = 0)    \n",
    "    print('Process {RANK} got {data}'.format(RANK = RANK, data = recv))   \n",
    "    if recv < 0: break"
   ]
  },
  {
   "cell_type": "markdown",
   "id": "7147d821",
   "metadata": {},
   "source": [
    "### Exercise 3 Sending in a ring (broadcast by ring)\n",
    "\n",
    "Write a program that takes data from process zero and sends it to all of the other processes by sending it in a ring. That is, process i should receive the data add the rank of the process to it then send it to process i+1, until the last process is reached.\n",
    "Assume that the data consists of a single integer. Process zero reads the data from the user.\n",
    "print the process rank and the value received.\n",
    "\n",
    "\n",
    "![ring](../data/ring.gif)\n",
    "\n",
    "You may want to use these MPI routines in your solution:\n",
    "`Send` `Recv` "
   ]
  },
  {
   "cell_type": "code",
   "execution_count": 7,
   "id": "e10de810",
   "metadata": {},
   "outputs": [
    {
     "name": "stdout",
     "output_type": "stream",
     "text": [
      "Overwriting sending.py\n"
     ]
    }
   ],
   "source": [
    "%%file ring.py\n",
    "from mpi4py import MPI\n",
    "COMM = MPI.COMM_WORLD\n",
    "RANK = COMM.Get_rank()\n",
    "SIZE = COMM.Get_size()\n",
    "tag = 100\n",
    "if RANK == 0:\n",
    "    sendbuf = int(input())    \n",
    "    COMM.send(sendbuf, dest = RANK + 1, tag = tag)\n",
    "else:\n",
    "    recvbuf = COMM.recv(source = RANK - 1, tag = tag)\n",
    "    print('I, process',RANK,',I received',recvbuf,'from the process',RANK-1)\n",
    "    if RANK != SIZE - 1:\n",
    "        COMM.send(recvbuf,dest = (RANK + 1)%SIZE, tag = tag)   "
   ]
  },
  {
   "cell_type": "code",
   "execution_count": null,
   "id": "4ac365f8",
   "metadata": {},
   "outputs": [],
   "source": [
    "# enter command for compile and run the program\n",
    "!mpirun -n 4 python3 ring.py"
   ]
  },
  {
   "cell_type": "markdown",
   "id": "79292972",
   "metadata": {},
   "source": [
    "\n",
    "\n",
    "### Exercise 4: Scattering Matrix\n",
    "1. Create an n by m matrix A on processor 0.\n",
    "2. Use MPI_Scatterv to send parts of the matrix to the other processors.\n",
    "3. Processor 1 receives A(i,j) for i=0 to (n/2)-1 and j=m/2 to m-1.\n",
    "4. Processor 2 receives A(i,j) for i=n/2 to n-1 and j=0 to (m/2)-1.\n",
    "5. Processor 3 receives A(i,j) for i=n/2 to n-1 and j=m/2 to m-1.\n",
    "**Example:** using n=m=8 for simplicity.\n",
    "\n",
    "![N2utM.png](attachment:N2utM.png)\n",
    "\n"
   ]
  },
  {
   "cell_type": "code",
   "execution_count": null,
   "id": "b1414349",
   "metadata": {},
   "outputs": [],
   "source": [
    "from mpi4py import MPI\n",
    "import numpy as np\n",
    "\n",
    "comm = MPI.COMM_WORLD\n",
    "rank = comm.Get_rank()\n",
    "size = comm.Get_size()\n",
    "\n",
    "n = 8\n",
    "m = 8\n",
    "A = np.zeros((n, m))\n",
    "\n",
    "# Calculate the subarray sizes and displacements\n",
    "sendcounts = np.zeros(size, dtype=np.int)\n",
    "displs = np.zeros(size, dtype=np.int)\n",
    "istart = 0\n",
    "jstart = 0\n",
    "for i in range(size):\n",
    "    sendcounts[i] = ((n//2)+(n%2))*(m//2+(m%2))\n",
    "    displs[i] = istart*m + jstart\n",
    "    istart += (n//2)+(n%2)\n",
    "    if (i+1) % 2 == 0:\n",
    "        jstart += (m//2)+(m%2)\n",
    "        istart = 0\n",
    "\n",
    "# Scatter the matrix A to the other processors\n",
    "recvbuf = np.empty(sendcounts[rank], dtype=np.float)\n",
    "comm.Scatterv([A, sendcounts, displs, MPI.DOUBLE], recvbuf, root=0)\n",
    "\n",
    "# Perform the local computation\n",
    "iend = istart + (n//2) + (n%2)\n",
    "jend = jstart + (m//2) + (m%2)\n",
    "if rank == 1:\n",
    "    # Processor 1 computes A(i,j) for i=0 to (n/2)-1 and j=m/2 to m-1\n",
    "    for i in range(n//2):\n",
    "        for j in range(m//2, m):\n",
    "            A[i,j] = some_computation()\n",
    "elif rank == 2:\n",
    "    # Processor 2 computes A(i,j) for i=n/2 to n-1 and j=0 to (m/2)-1\n",
    "    for i in range(n//2, n):\n",
    "        for j in range(m//2):\n",
    "            A[i,j] = some_computation()\n",
    "elif rank == 3:\n",
    "    # Processor 3 computes A(i,j) for i=n/2 to n-1 and j=m/2 to m-1\n",
    "    for i in range(n//2, n):\n",
    "        for j in range(m//2, m):\n",
    "            A[i,j] = some_computation()\n",
    "\n",
    "# Gather the results back to processor 0\n",
    "comm.Gatherv(recvbuf, [A, sendcounts, displs, MPI.DOUBLE], root=0)\n",
    "\n",
    "if rank == 0:\n",
    "    print(A)\n",
    "\n",
    "MPI.Finalize()\n"
   ]
  },
  {
   "cell_type": "markdown",
   "id": "a3ad25bb",
   "metadata": {},
   "source": [
    "### Exercise 5 Matrix vector product\n",
    "\n",
    "1. Use the `MatrixVectorMult.py` file to implement the MPI version of matrix vector multiplication.\n",
    "2. Process 0 compares the result with the `dot` product.\n",
    "3. Plot the scalability of your implementation. \n",
    "\n",
    "**Output Example**\n",
    "```shell\n",
    "CPU time of parallel multiplication using 2 processes is  174.923446\n",
    "The error comparing to the dot product is : 1.4210854715202004e-14\n",
    "```\n"
   ]
  },
  {
   "cell_type": "code",
   "execution_count": 8,
   "id": "49afc7f9",
   "metadata": {},
   "outputs": [
    {
     "name": "stdout",
     "output_type": "stream",
     "text": [
      "Overwriting MatrixVectorMult_V0.py\n"
     ]
    }
   ],
   "source": [
    " %%file MatrixVectorMult_V0.py\n",
    " # write your program here\n",
    "import time \n",
    "import numpy as np\n",
    "from scipy.sparse import lil_matrix\n",
    "from numpy.random import rand, seed\n",
    "from numba import njit\n",
    "from mpi4py import MPI\n",
    "\n",
    "\n",
    "''' This program compute parallel csc matrix vector multiplication using mpi '''\n",
    "\n",
    "COMM = MPI.COMM_WORLD\n",
    "nbOfproc = COMM.Get_size()\n",
    "RANK = COMM.Get_rank()\n",
    "\n",
    "seed(42)\n",
    "\n",
    "def matrixVectorMult(A, b, x):\n",
    "    \n",
    "    row, col = A.shape\n",
    "    for i in range(row):\n",
    "        a = A[i]\n",
    "        for j in range(col):\n",
    "            x[i] += a[j] * b[j]\n",
    "\n",
    "    return 0\n",
    "\n",
    "########################initialize matrix A and vector b ######################\n",
    "#matrix sizes\n",
    "SIZE = 1000\n",
    "Local_size = SIZE // nbOfproc\n",
    "\n",
    "\n",
    "# counts = block of each proc\n",
    "proc_block = Local_size * SIZE\n",
    "counts =  [proc_block for i in range(nbOfproc)]\n",
    "\n",
    "if RANK == 0:\n",
    "    A = lil_matrix((SIZE, SIZE))\n",
    "    A[0, :100] = rand(100)\n",
    "    A[1, 100:200] = A[0, :100]\n",
    "    A.setdiag(rand(SIZE))\n",
    "    A = A.toarray()\n",
    "    b = rand(SIZE)\n",
    "else :\n",
    "    A = None\n",
    "    b = None\n",
    "\n",
    "\n",
    "\n",
    "#########Send b to all procs and scatter A (each proc has its own local matrix#####\n",
    "LocalMatrix = np.empty((Local_size, SIZE), dtype = np.float64)\n",
    "b = COMM.bcast(b, root = 0)\n",
    "# Scatter the matrix A\n",
    "COMM.Scatterv([A, counts, MPI.DOUBLE], LocalMatrix, root = 0)\n",
    "#####################Compute A*b locally#######################################\n",
    "LocalX = np.zeros(Local_size)\n",
    "start = MPI.Wtime()\n",
    "matrixVectorMult(LocalMatrix, b, LocalX)\n",
    "stop = MPI.Wtime()\n",
    "if RANK == 0:\n",
    "    print(\"CPU time of parallel multiplication using\", nbOfproc,\"processes is \", (stop - start)*1000)\n",
    "\n",
    "\n",
    "##################Gather te results ###########################################\n",
    "# sendcouns = local size of result\n",
    "sendcounts = [Local_size for i in range(nbOfproc)] \n",
    "if RANK == 0: \n",
    "    X = np.empty(SIZE, dtype = np.float64)\n",
    "else :\n",
    "    X = None\n",
    "\n",
    "# Gather the result into X\n",
    "COMM.Gatherv(LocalX,[X, sendcounts, MPI.DOUBLE], root = 0)\n",
    "\n",
    "##################Print the results ###########################################\n",
    "\n",
    "if RANK == 0 :\n",
    "    X_ = A.dot(b)\n",
    "    print(\"The error comparing to the dot product is :\", np.max(X_ - X))"
   ]
  },
  {
   "cell_type": "code",
   "execution_count": null,
   "id": "9aa9d931",
   "metadata": {},
   "outputs": [],
   "source": [
    "# enter command for compile and run the program\n",
    "!mpirun -n 2 python3 MatrixVectorMult_V0.py"
   ]
  },
  {
   "cell_type": "code",
   "execution_count": 9,
   "id": "21067b42",
   "metadata": {},
   "outputs": [
    {
     "data": {
      "text/plain": [
       "Text(0.5, 1.0, 'CPU time per number of processes use to the product Matrix vect')"
      ]
     },
     "execution_count": 9,
     "metadata": {},
     "output_type": "execute_result"
    },
    {
     "data": {
      "image/png": "[encoded data removed]",
      "text/plain": [
       "<Figure size 640x480 with 1 Axes>"
      ]
     },
     "metadata": {},
     "output_type": "display_data"
    }
   ],
   "source": [
    "import matplotlib.pyplot as plt\n",
    "CPU_time=[326.5986, 199.3336, 155.07819]\n",
    "plt.plot([1,2,4],CPU_time)\n",
    "plt.title(\"CPU time per number of processes use to the product Matrix vect\")"
   ]
  },
  {
   "cell_type": "markdown",
   "id": "6f12d574",
   "metadata": {},
   "source": [
    "### Exercise 6: Pi calculation\n",
    "An approximation to the value π can be obtained from the following expression\n",
    "\n",
    "![Pi expression](../data/pi.PNG)\n",
    "\n",
    "where the answer becomes more accurate with increasing N. Iterations over i are independent so the\n",
    "calculation can be parallelized.\n",
    "\n",
    "For the following exercises you should set N = 840. This number is divisible by 2, 3, 4, 5, 6, 7 and 8\n",
    "which is convenient when you parallelize the calculation!\n",
    "\n",
    "1. Create a program where each process independently computes the value of `π` and prints it to the screen. Check that the values are correct (each process should print the same value)\n",
    "2. Now arrange for different processes to do the computation for different ranges of i. For example, on two processes: rank 0 would do i = 0, 1, 2, . . . , N/2 - 1; rank 1 would do i = N/2, N/2 + 1, . . . , N-1.\n",
    "Print the partial sums to the screen and check the values are correct by adding them up by hand.\n",
    "3. Now we want to accumulate these partial sums by sending them to the controller (e.g. rank 0) to add up:\n",
    "- all processes (except the controller) send their partial sum to the controller\n",
    "- the controller receives the values from all the other processes, adding them to its own partial sum\n",
    "1. Use the function `MPI_Wtime` (see below) to record the time it takes to perform the calculation. For a given value of N, does the time decrease as you increase the number of processes? Note that to ensure that the calculation takes a sensible amount of time (e.g. more than a second) you will probably have to perform the calculation of `π` several thousands of times.\n",
    "2. Ensure your program works correctly if N is not an exact multiple of the number of processes P\n"
   ]
  },
  {
   "cell_type": "code",
   "execution_count": 10,
   "id": "b3e7e54a",
   "metadata": {},
   "outputs": [
    {
     "name": "stdout",
     "output_type": "stream",
     "text": [
      "Overwriting PiMonteCarlo_V0.py\n"
     ]
    }
   ],
   "source": [
    " %%file PiMonteCarlo_V0.py\n",
    "\n",
    "import random \n",
    "import timeit\n",
    "from mpi4py import MPI\n",
    "\n",
    "COMM = MPI.COMM_WORLD\n",
    "nbOfproc = COMM.Get_size()\n",
    "RANK = COMM.Get_rank()\n",
    "\n",
    "\n",
    "\n",
    "random.seed(42)  \n",
    "\n",
    "def compute_points(n):\n",
    "    \n",
    "    random.seed(42)  \n",
    "    \n",
    "    circle_points= 0\n",
    "\n",
    "    # Total Random numbers generated= possible x \n",
    "    # values* possible y values \n",
    "    for i in range(n): \n",
    "      \n",
    "        # Randomly generated x and y values from a \n",
    "        # uniform distribution \n",
    "        # Rannge of x and y values is -1 to 1 \n",
    "                \n",
    "        rand_x= random.uniform(-1, 1) \n",
    "        rand_y= random.uniform(-1, 1) \n",
    "      \n",
    "        # Distance between (x, y) from the origin \n",
    "        origin_dist= rand_x**2 + rand_y**2\n",
    "      \n",
    "        # Checking if (x, y) lies inside the circle \n",
    "        if origin_dist<= 1: \n",
    "            circle_points+= 1\n",
    "      \n",
    "        # Estimating value of pi, \n",
    "        # pi= 4*(no. of points generated inside the  \n",
    "        # circle)/ (no. of points generated inside the square) \n",
    "    \n",
    "     \n",
    "    \n",
    "    return circle_points\n",
    "\n",
    "INTERVAL= 1000\n",
    "a= int((INTERVAL**2)/4)\n",
    "start = timeit.default_timer()\n",
    "circle_points = compute_points(a)\n",
    "end = timeit.default_timer()\n",
    "pi = 4* circle_points/ INTERVAL**2 \n",
    "circle_point_reduced = COMM.reduce(circle_points, op=MPI.SUM, root=0)\n",
    "pi_reduced = COMM.reduce(pi, op=MPI.SUM, root=0)\n",
    "if RANK==0:\n",
    "    print(\"Circle points number :\",circle_point_reduced )\n",
    "    print(\"Final Estimation of Pi=\", pi_reduced, \"cpu time :\",end-start) "
   ]
  },
  {
   "cell_type": "code",
   "execution_count": null,
   "id": "41661ff3",
   "metadata": {},
   "outputs": [],
   "source": []
  },
  {
   "cell_type": "code",
   "execution_count": 11,
   "id": "e7224df8",
   "metadata": {},
   "outputs": [
    {
     "data": {
      "text/plain": [
       "Text(0.5, 1.0, 'CPU time per number of processes use to the Pi MonteCarlo ')"
      ]
     },
     "execution_count": 11,
     "metadata": {},
     "output_type": "execute_result"
    },
    {
     "data": {
      "image/png": "[encoded data removed]",
      "text/plain": [
       "<Figure size 640x480 with 1 Axes>"
      ]
     },
     "metadata": {},
     "output_type": "display_data"
    }
   ],
   "source": [
    "CPU_time=[0.28484, 0.35480, 0.27464, 0.28276]\n",
    "plt.plot([1, 2, 3, 4],CPU_time)\n",
    "plt.title(\"CPU time per number of processes use to the Pi MonteCarlo \")"
   ]
  },
  {
   "cell_type": "code",
   "execution_count": null,
   "id": "1a805e96",
   "metadata": {},
   "outputs": [],
   "source": []
  }
 ],
 "metadata": {
  "kernelspec": {
   "display_name": "Python 3 (ipykernel)",
   "language": "python",
   "name": "python3"
  },
  "language_info": {
   "codemirror_mode": {
    "name": "ipython",
    "version": 3
   },
   "file_extension": ".py",
   "mimetype": "text/x-python",
   "name": "python",
   "nbconvert_exporter": "python",
   "pygments_lexer": "ipython3",
   "version": "3.9.13"
  }
 },
 "nbformat": 4,
 "nbformat_minor": 5
}
