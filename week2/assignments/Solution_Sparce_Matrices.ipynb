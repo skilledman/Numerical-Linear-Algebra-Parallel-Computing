{
 "cells": [
  {
   "cell_type": "markdown",
   "id": "6b83fe2e",
   "metadata": {},
   "source": [
    "In this assignement, feel free to use the `sparse` module from `scipy`."
   ]
  },
  {
   "cell_type": "markdown",
   "id": "9f6db23d",
   "metadata": {},
   "source": [
    "Use the cell below for your imports."
   ]
  },
  {
   "cell_type": "code",
   "execution_count": 5,
   "id": "979f1212",
   "metadata": {},
   "outputs": [],
   "source": [
    "import numpy as np\n",
    "from scipy.sparse import coo_matrix\n",
    "from scipy.sparse import csr_matrix\n",
    "from scipy.sparse.linalg import spsolve"
   ]
  },
  {
   "cell_type": "markdown",
   "id": "2b44e5ef",
   "metadata": {},
   "source": [
    "implement the function `mat_mul_coo` that takes two sparse matrices in `coo` and returns their product."
   ]
  },
  {
   "cell_type": "code",
   "execution_count": 6,
   "id": "c306e8cf",
   "metadata": {},
   "outputs": [
    {
     "name": "stdout",
     "output_type": "stream",
     "text": [
      "[[ 4  0]\n",
      " [ 0 10]\n",
      " [ 0  0]]\n"
     ]
    }
   ],
   "source": [
    "def mat_mul_coo(A, B):\n",
    "    \"\"\"\n",
    "    Compute the product of two sparse matrices in COO format.\n",
    "\n",
    "    Parameters\n",
    "    ----------\n",
    "    A : coo_matrix\n",
    "        First sparse matrix in COO format.\n",
    "    B : coo_matrix\n",
    "        Second sparse matrix in COO format.\n",
    "\n",
    "    Returns\n",
    "    -------\n",
    "    C : coo_matrix\n",
    "        Product of A and B in COO format.\n",
    "    \"\"\"\n",
    "    if A.shape[1] != B.shape[0]:\n",
    "        raise ValueError(\"Matrices cannot be multiplied\")\n",
    "\n",
    "    A_data = A.data\n",
    "    A_row = A.row\n",
    "    A_col = A.col\n",
    "    B_data = B.data\n",
    "    B_row = B.row\n",
    "    B_col = B.col\n",
    "\n",
    "    # Create a dictionary to store the values of the product matrix\n",
    "    C_dict = {}\n",
    "\n",
    "    # Iterate over the non-zero entries of A\n",
    "    for i in range(len(A_data)):\n",
    "        # Iterate over the non-zero entries of B with the same row index as the current entry in A\n",
    "        for j in range(len(B_data)):\n",
    "            if A_col[i] == B_row[j]:\n",
    "                # Multiply the corresponding values and add them to the dictionary\n",
    "                key = (A_row[i], B_col[j])\n",
    "                value = A_data[i] * B_data[j]\n",
    "                if key in C_dict:\n",
    "                    C_dict[key] += value\n",
    "                else:\n",
    "                    C_dict[key] = value\n",
    "\n",
    "    # Create the COO matrix from the dictionary values\n",
    "    C_data = np.array(list(C_dict.values()))\n",
    "    C_row, C_col = zip(*C_dict.keys())\n",
    "    C = coo_matrix((C_data, (C_row, C_col)), shape=(A.shape[0], B.shape[1]))\n",
    "\n",
    "    return C\n",
    "\n",
    "# Create two sparse matrices in COO format\n",
    "A = coo_matrix([[1, 0, 0], [0, 2, 0], [0, 0, 3]])\n",
    "B = coo_matrix([[4, 0], [0, 5], [0, 0]])\n",
    "\n",
    "# Compute their product\n",
    "C = mat_mul_coo(A, B)\n",
    "\n",
    "# Print the resulting matrix in COO format\n",
    "print(C.toarray())\n"
   ]
  },
  {
   "cell_type": "markdown",
   "id": "3512303f",
   "metadata": {},
   "source": [
    "implement the function `mat_mul_csr` that takes two sparse matrices in `csr` format and returns their product."
   ]
  },
  {
   "cell_type": "code",
   "execution_count": 7,
   "id": "b7b49bf8",
   "metadata": {},
   "outputs": [
    {
     "name": "stdout",
     "output_type": "stream",
     "text": [
      "[[ 4  0]\n",
      " [ 0 10]\n",
      " [ 0  0]]\n"
     ]
    }
   ],
   "source": [
    "import numpy as np\n",
    "from scipy.sparse import csr_matrix\n",
    "\n",
    "def mat_mul_csr(A, B):\n",
    "    \"\"\"\n",
    "    Compute the product of two sparse matrices in CSR format.\n",
    "\n",
    "    Parameters\n",
    "    ----------\n",
    "    A : csr_matrix\n",
    "        First sparse matrix in CSR format.\n",
    "    B : csr_matrix\n",
    "        Second sparse matrix in CSR format.\n",
    "\n",
    "    Returns\n",
    "    -------\n",
    "    C : csr_matrix\n",
    "        Product of A and B in CSR format.\n",
    "    \"\"\"\n",
    "    if A.shape[1] != B.shape[0]:\n",
    "        raise ValueError(\"Matrices cannot be multiplied\")\n",
    "\n",
    "    # Get the CSR data arrays for A and B\n",
    "    A_data = A.data\n",
    "    A_indices = A.indices\n",
    "    A_indptr = A.indptr\n",
    "    B_data = B.data\n",
    "    B_indices = B.indices\n",
    "    B_indptr = B.indptr\n",
    "\n",
    "    # Create arrays to store the data, indices, and indptr values for the product matrix C\n",
    "    C_data = []\n",
    "    C_indices = []\n",
    "    C_indptr = [0]\n",
    "\n",
    "    # Iterate over the rows of A\n",
    "    for i in range(A.shape[0]):\n",
    "        # Create a dictionary to store the non-zero entries of the current row of C\n",
    "        C_dict = {}\n",
    "\n",
    "        # Iterate over the non-zero entries of the i-th row of A\n",
    "        for k in range(A_indptr[i], A_indptr[i + 1]):\n",
    "            # Iterate over the non-zero entries of the k-th column of B\n",
    "            for j in range(B_indptr[A_indices[k]], B_indptr[A_indices[k] + 1]):\n",
    "                if B_indices[j] in C_dict:\n",
    "                    C_dict[B_indices[j]] += A_data[k] * B_data[j]\n",
    "                else:\n",
    "                    C_dict[B_indices[j]] = A_data[k] * B_data[j]\n",
    "\n",
    "        # Add the non-zero entries of the current row of C to the data and indices arrays\n",
    "        C_data.extend(C_dict.values())\n",
    "        C_indices.extend(C_dict.keys())\n",
    "        C_indptr.append(len(C_indices))\n",
    "\n",
    "    # Create the CSR matrix from the data, indices, and indptr arrays\n",
    "    C = csr_matrix((C_data, C_indices, C_indptr), shape=(A.shape[0], B.shape[1]))\n",
    "\n",
    "    return C\n",
    "\n",
    "# Create two sparse matrices in CSR format\n",
    "A = csr_matrix([[1, 0, 0], [0, 2, 0], [0, 0, 3]])\n",
    "B = csr_matrix([[4, 0], [0, 5], [0, 0]])\n",
    "\n",
    "# Compute their product\n",
    "C = mat_mul_csr(A, B)\n",
    "\n",
    "# Print the resulting matrix in CSR format\n",
    "print(C.toarray())\n"
   ]
  },
  {
   "cell_type": "markdown",
   "id": "851a67b6",
   "metadata": {},
   "source": [
    "implement a function `solve_lin_sys` that takes a matrix `A` in `csr` format and a vector `b` as a numpy array and solves the system `Ax = b`."
   ]
  },
  {
   "cell_type": "code",
   "execution_count": 13,
   "id": "ec20f1bc",
   "metadata": {},
   "outputs": [],
   "source": [
    "def solve_lin_sys(A, b):\n",
    "    # convert A to csr format if it's not already\n",
    "    if not isinstance(A, csr_matrix):\n",
    "        A = csr_matrix(A)\n",
    "    \n",
    "    # solve the system Ax = b\n",
    "    x = spsolve(A, b)\n",
    "    \n",
    "    return x"
   ]
  },
  {
   "cell_type": "code",
   "execution_count": 14,
   "id": "00f1c716",
   "metadata": {},
   "outputs": [
    {
     "name": "stdout",
     "output_type": "stream",
     "text": [
      "[ 0.44055944  0.6993007  -0.24475524]\n"
     ]
    }
   ],
   "source": [
    "# Example usage\n",
    "A = csr_matrix([[8, 1, 5], [5, 0, 9], [2, 3, 4]])\n",
    "b = np.array([3, 0, 2])\n",
    "\n",
    "x = solve_lin_sys(A, b)\n",
    "\n",
    "print(x)"
   ]
  },
  {
   "cell_type": "code",
   "execution_count": null,
   "id": "55f8d1fa",
   "metadata": {},
   "outputs": [],
   "source": []
  }
 ],
 "metadata": {
  "kernelspec": {
   "display_name": "Python 3 (ipykernel)",
   "language": "python",
   "name": "python3"
  },
  "language_info": {
   "codemirror_mode": {
    "name": "ipython",
    "version": 3
   },
   "file_extension": ".py",
   "mimetype": "text/x-python",
   "name": "python",
   "nbconvert_exporter": "python",
   "pygments_lexer": "ipython3",
   "version": "3.9.13"
  }
 },
 "nbformat": 4,
 "nbformat_minor": 5
}
